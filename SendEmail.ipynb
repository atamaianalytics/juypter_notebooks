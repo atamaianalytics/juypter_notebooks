{
 "cells": [
  {
   "cell_type": "markdown",
   "metadata": {},
   "source": [
    "# SendEmail\n",
    "Python 3 code for sending email via outlook to one or more recipients with one or more attachements\n",
    "***"
   ]
  },
  {
   "cell_type": "markdown",
   "metadata": {},
   "source": [
    "## Import required libraries"
   ]
  },
  {
   "cell_type": "code",
   "execution_count": 6,
   "metadata": {},
   "outputs": [],
   "source": [
    "from datetime import date\n",
    "from datetime import timedelta\n",
    "\n",
    "import smtplib\n",
    "from email.mime.text import MIMEText\n",
    "from email.mime.multipart import MIMEMultipart\n",
    "from email.mime.base import MIMEBase\n",
    "from email import encoders\n",
    "from email.mime.application import MIMEApplication\n",
    "import os.path"
   ]
  },
  {
   "cell_type": "markdown",
   "metadata": {},
   "source": [
    "## Define send_email function"
   ]
  },
  {
   "cell_type": "code",
   "execution_count": 7,
   "metadata": {},
   "outputs": [],
   "source": [
    "def send_email(server_login_user,\n",
    "               server_login_pw,\n",
    "               email_recipient,\n",
    "               email_sender,\n",
    "               email_subject,\n",
    "               email_message,\n",
    "               dir_path,\n",
    "               files,\n",
    "               attachment_location = ''):\n",
    "\n",
    "    msg = MIMEMultipart()\n",
    "    msg['From'] = email_sender\n",
    "    msg['To'] = \", \".join(email_recipient)\n",
    "    msg['Subject'] = email_subject\n",
    "\n",
    "    msg.attach(MIMEText(email_message, 'plain'))\n",
    "\n",
    "    for f in files:  # add files to the message\n",
    "        file_path = os.path.join(dir_path, f)\n",
    "        attachment = MIMEApplication(open(file_path, \"rb\").read(), _subtype=\"txt\")\n",
    "        attachment.add_header('Content-Disposition','attachment', filename=f)\n",
    "        msg.attach(attachment)\n",
    "\n",
    "    try:\n",
    "        server = smtplib.SMTP('smtp-mail.outlook.com', port='587')\n",
    "        server.ehlo()\n",
    "        server.starttls()\n",
    "        server.login(server_login_user,server_login_pw)\n",
    "        text = msg.as_string()\n",
    "        server.sendmail(email_sender, email_recipient, text)\n",
    "        print('email sent')\n",
    "        server.quit()\n",
    "    except:\n",
    "        print(\"SMPT server connection error\")\n",
    "    return True"
   ]
  },
  {
   "cell_type": "markdown",
   "metadata": {},
   "source": [
    "## Example\n",
    "Note that it is likely that the receipent will initially recieve the email in their spam folder"
   ]
  },
  {
   "cell_type": "markdown",
   "metadata": {},
   "source": [
    "### Create Variables\n",
    "Replace examples with your variables"
   ]
  },
  {
   "cell_type": "code",
   "execution_count": 8,
   "metadata": {},
   "outputs": [],
   "source": [
    "server_login_user = 'myusername'\n",
    "server_login_pw = 'mypassword'\n",
    "email_recipient = ['recip1email@gmail.com','recip2email@gmail.com'] # create list for multiple recipients\n",
    "email_sender = 'myemail@outlook.com'\n",
    "email_subject = 'Email sent using python' # email subject line\n",
    "email_message = 'Email created using Python 3 code for sending email via outlook to\\\n",
    "                 one or more recipients with one or more attachements' # message in body of email\n",
    "file_path = \"C:/MyPath/Documents\" # file path for attachements\n",
    "files = [\"mydocs1.pdf\",\"mydocs2.pdf\"] #the name of file attachements - create list for multiple files"
   ]
  },
  {
   "cell_type": "markdown",
   "metadata": {},
   "source": [
    "### Call send_email function\n",
    "Call the send_email function with your variables"
   ]
  },
  {
   "cell_type": "code",
   "execution_count": 9,
   "metadata": {},
   "outputs": [
    {
     "name": "stdout",
     "output_type": "stream",
     "text": [
      "email sent\n"
     ]
    },
    {
     "data": {
      "text/plain": [
       "True"
      ]
     },
     "execution_count": 9,
     "metadata": {},
     "output_type": "execute_result"
    }
   ],
   "source": [
    "send_email(server_login_user, \n",
    "           server_login_pw,\n",
    "           email_recipient,\n",
    "           email_sender,\n",
    "           email_subject,\n",
    "           email_message,\n",
    "           file_path,\n",
    "           files)"
   ]
  },
  {
   "cell_type": "code",
   "execution_count": null,
   "metadata": {},
   "outputs": [],
   "source": []
  }
 ],
 "metadata": {
  "kernelspec": {
   "display_name": "Python 3",
   "language": "python",
   "name": "python3"
  },
  "language_info": {
   "codemirror_mode": {
    "name": "ipython",
    "version": 3
   },
   "file_extension": ".py",
   "mimetype": "text/x-python",
   "name": "python",
   "nbconvert_exporter": "python",
   "pygments_lexer": "ipython3",
   "version": "3.7.1"
  }
 },
 "nbformat": 4,
 "nbformat_minor": 4
}
